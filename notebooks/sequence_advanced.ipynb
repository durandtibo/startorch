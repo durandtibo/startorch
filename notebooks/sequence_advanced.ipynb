{
 "cells": [
  {
   "cell_type": "code",
   "execution_count": null,
   "id": "751cb2fb-d215-44fd-90ae-3807f2f23f58",
   "metadata": {},
   "outputs": [],
   "source": [
    "%matplotlib inline"
   ]
  },
  {
   "cell_type": "code",
   "execution_count": null,
   "id": "6f43e56d-7bb0-4b92-8192-04c49ddd0bad",
   "metadata": {},
   "outputs": [],
   "source": [
    "import math\n",
    "import torch\n",
    "import numpy as np\n",
    "import matplotlib.pyplot as plt\n",
    "import seaborn as sns\n",
    "\n",
    "from startorch import sequence as seq\n",
    "from startorch.plot.matplotlib import hist_sequence, plot_sequence"
   ]
  },
  {
   "cell_type": "code",
   "execution_count": null,
   "id": "3722bab3-5696-4ff9-95e1-ae8f87e9b5b8",
   "metadata": {},
   "outputs": [],
   "source": [
    "plt.style.use(\"bmh\")\n",
    "plt.rcParams[\"figure.figsize\"] = (16, 5)"
   ]
  },
  {
   "cell_type": "markdown",
   "id": "6202ff0b-d70e-46f2-ba8e-d93ea5e4899e",
   "metadata": {},
   "source": [
    "# Table of content\n",
    "\n",
    "- [Continuous univariate supported on a bounded interval](#Continuous-univariate-supported-on-a-bounded-interval)\n",
    "    - [Asinh-uniform](#Asinh-uniform)\n",
    "    - [Linear](#Linear)\n",
    "    - [Log-uniform](#Log-uniform)\n",
    "    - [Sine wave](#Sine-wave)\n",
    "    - [Truncated Cauchy](#Truncated-Cauchy)\n",
    "    - [Truncated Exponential](#Truncated-Exponential)\n",
    "    - [Truncated Normal](#Truncated-Normal)\n",
    "    - [Truncated half-Cauchy](#Truncated-half-Cauchy)\n",
    "    - [Truncated half-Normal](#Truncated-half-Normal)\n",
    "    - [Truncated log-Normal](#Truncated-log-Normal)\n",
    "    - [Uniform](#Uniform)\n",
    "- [Continuous univariate supported on a semi-inifinte interval](#Continuous-univariate-supported-on-a-semi-inifinte-interval)\n",
    "    - [Exponential](#Exponential)\n",
    "    - [Half-Cauchy](#Half-Cauchy)\n",
    "    - [Half-Normal](#Half-Normal)\n",
    "    - [Log-Normal](#Log-Normal)\n",
    "- [Continuous univariate supported on an inifinte interval](#Continuous-univariate-supported-on-an-inifinte-interval)\n",
    "    - [Cauchy](#Cauchy)\n",
    "    - [Normal](#Normal)\n",
    "- [Discrete univariate supported on a semi-infinite support](#Discrete-univariate-supported-on-a-semi-infinite-support)\n",
    "    - [Poisson](#Poisson)"
   ]
  },
  {
   "cell_type": "markdown",
   "id": "2e08d98a-f3b6-4bf3-b9aa-1fe932cc25fb",
   "metadata": {},
   "source": [
    "# Continuous univariate supported on a bounded interval\n",
    "\n",
    "[top](#table-of-content)"
   ]
  },
  {
   "cell_type": "markdown",
   "id": "fb1c6a99-927d-4f28-bf99-0de5c48aa4f3",
   "metadata": {},
   "source": [
    "## Asinh-uniform\n",
    "\n",
    "[top](#Table-of-content)"
   ]
  },
  {
   "cell_type": "code",
   "execution_count": null,
   "id": "213d34dd-1a1b-4c8e-9a88-0d9662716a9f",
   "metadata": {},
   "outputs": [],
   "source": [
    "generator = seq.AsinhUniform(\n",
    "    low=seq.Constant(seq.RandAsinhUniform(low=-1000.0, high=-1.0)),\n",
    "    high=seq.Constant(seq.RandAsinhUniform(low=1.0, high=1000.0)),\n",
    ")\n",
    "print(generator)\n",
    "fig = plot_sequence(generator, batch_size=4)"
   ]
  },
  {
   "cell_type": "code",
   "execution_count": null,
   "id": "e90a9ee7-66a4-40dd-8b0f-ca7ec518b943",
   "metadata": {},
   "outputs": [],
   "source": [
    "fig = hist_sequence(generator, bins=500)\n",
    "fig = hist_sequence(generator, bins=500, scale=\"asinh\")"
   ]
  },
  {
   "cell_type": "markdown",
   "id": "b6e956a4-9b8f-4023-a2d3-286e58328f07",
   "metadata": {},
   "source": [
    "## Linear"
   ]
  },
  {
   "cell_type": "code",
   "execution_count": null,
   "id": "0ef02eff-77cb-471a-b3dd-5b67b7f4d41d",
   "metadata": {},
   "outputs": [],
   "source": [
    "generator = seq.Linear(\n",
    "    value=seq.Arange(),\n",
    "    slope=seq.Constant(seq.RandUniform(low=-1.0, high=1.0)),\n",
    "    intercept=seq.Constant(seq.RandUniform(low=-50.0, high=50.0)),\n",
    ")\n",
    "print(generator)\n",
    "fig = plot_sequence(generator, batch_size=4)"
   ]
  },
  {
   "cell_type": "code",
   "execution_count": null,
   "id": "31f8402e-6c16-4875-8b4c-e51443c677aa",
   "metadata": {},
   "outputs": [],
   "source": [
    "fig = hist_sequence(generator, bins=500)"
   ]
  },
  {
   "cell_type": "markdown",
   "id": "a2e2bbaf-0b70-4c93-a1f1-796dcb5301b0",
   "metadata": {},
   "source": [
    "## Log-uniform\n",
    "\n",
    "[top](#Table-of-content)"
   ]
  },
  {
   "cell_type": "code",
   "execution_count": null,
   "id": "051f18c2-6b87-4ce1-98b9-1269fab7f79a",
   "metadata": {},
   "outputs": [],
   "source": [
    "generator = seq.LogUniform(\n",
    "    low=seq.Constant(seq.RandLogUniform(low=0.001, high=1.0)),\n",
    "    high=seq.Constant(seq.RandLogUniform(low=1.0, high=1000.0)),\n",
    ")\n",
    "print(generator)\n",
    "fig = plot_sequence(generator, batch_size=4)"
   ]
  },
  {
   "cell_type": "code",
   "execution_count": null,
   "id": "d0ee5453-ea24-49b9-9dbd-83ab72b9e7b8",
   "metadata": {},
   "outputs": [],
   "source": [
    "fig = hist_sequence(generator, bins=500)\n",
    "fig = hist_sequence(generator, bins=500, scale=\"log10\")"
   ]
  },
  {
   "cell_type": "markdown",
   "id": "7f51d385-6cc7-4c70-a196-bb0ef8c0168a",
   "metadata": {},
   "source": [
    "## Sine wave"
   ]
  },
  {
   "cell_type": "code",
   "execution_count": null,
   "id": "e02594bc-e729-4000-928f-b523171c0c61",
   "metadata": {},
   "outputs": [],
   "source": [
    "generator = seq.SineWave(\n",
    "    value=seq.Arange(),\n",
    "    frequency=seq.Constant(seq.RandUniform(low=0.1, high=10.0)),\n",
    "    phase=seq.Constant(seq.RandUniform(low=0.0, high=2.0 * math.pi)),\n",
    "    amplitude=seq.Constant(seq.RandUniform(low=0.1, high=10.0)),\n",
    ")\n",
    "print(generator)\n",
    "fig = plot_sequence(generator, batch_size=4)"
   ]
  },
  {
   "cell_type": "code",
   "execution_count": null,
   "id": "28a07749-b97d-4a24-8f3b-de8e1634055e",
   "metadata": {},
   "outputs": [],
   "source": [
    "fig = hist_sequence(generator, bins=500)\n",
    "fig = hist_sequence(generator, bins=500, scale='asinh')"
   ]
  },
  {
   "cell_type": "markdown",
   "id": "d2f24a01-7f34-4b9c-83e3-ee4e5a19e2be",
   "metadata": {},
   "source": [
    "## Truncated Cauchy\n",
    "\n",
    "[top](#Table-of-content)"
   ]
  },
  {
   "cell_type": "code",
   "execution_count": null,
   "id": "a69eb981-c1ab-4bab-bc0c-cd33bf2872fe",
   "metadata": {},
   "outputs": [],
   "source": [
    "generator = seq.TruncCauchy(\n",
    "    loc=seq.Constant(seq.RandUniform(low=-5.0, high=5.0)),\n",
    "    scale=seq.Constant(seq.RandUniform(low=0.1, high=10.0)),\n",
    "    min_value=seq.Full(-100.0),\n",
    "    max_value=seq.Full(100.0),\n",
    ")\n",
    "print(generator)\n",
    "fig = plot_sequence(generator, batch_size=4)"
   ]
  },
  {
   "cell_type": "code",
   "execution_count": null,
   "id": "e21247ed-3b16-4fad-af23-c9027af8f3ec",
   "metadata": {},
   "outputs": [],
   "source": [
    "fig = hist_sequence(generator, bins=500)\n",
    "fig = hist_sequence(generator, bins=500, scale='asinh')"
   ]
  },
  {
   "cell_type": "markdown",
   "id": "54465b0b-2236-4fce-b8c1-e8bcf9979134",
   "metadata": {},
   "source": [
    "## Truncated Exponential\n",
    "\n",
    "[top](#Table-of-content)"
   ]
  },
  {
   "cell_type": "code",
   "execution_count": null,
   "id": "480661c9-aacd-4c73-b42b-39e2ecb56b93",
   "metadata": {},
   "outputs": [],
   "source": [
    "generator = seq.TruncExponential(\n",
    "    rate=seq.Constant(seq.RandUniform(low=0.1, high=2.0)),\n",
    "    max_value=seq.Full(10.0),\n",
    ")\n",
    "print(generator)\n",
    "fig = plot_sequence(generator, batch_size=4)"
   ]
  },
  {
   "cell_type": "code",
   "execution_count": null,
   "id": "af45a7c5-5b2f-4b05-a7b7-9616e18b82f4",
   "metadata": {},
   "outputs": [],
   "source": [
    "fig = hist_sequence(generator, bins=500)\n",
    "fig = hist_sequence(generator, bins=500, scale='log10')"
   ]
  },
  {
   "cell_type": "markdown",
   "id": "68717ca8-715b-4885-9cf8-48e46d0286ae",
   "metadata": {},
   "source": [
    "## Truncated Normal\n",
    "\n",
    "[top](#Table-of-content)"
   ]
  },
  {
   "cell_type": "code",
   "execution_count": null,
   "id": "1fec683a-ef76-4161-b393-3aa29306d1a3",
   "metadata": {},
   "outputs": [],
   "source": [
    "generator = seq.TruncNormal(\n",
    "    mean=seq.Constant(seq.RandUniform(low=-5.0, high=5.0)),\n",
    "    std=seq.Constant(seq.RandUniform(low=0.1, high=2.0)),\n",
    "    min_value=seq.Full(-10.0),\n",
    "    max_value=seq.Full(10.0),\n",
    ")\n",
    "print(generator)\n",
    "fig = plot_sequence(generator, batch_size=4)"
   ]
  },
  {
   "cell_type": "code",
   "execution_count": null,
   "id": "58493cb2-3c3b-4486-b20b-34d79bbfe258",
   "metadata": {},
   "outputs": [],
   "source": [
    "fig = hist_sequence(generator, bins=500)"
   ]
  },
  {
   "cell_type": "markdown",
   "id": "323b1233-e5f9-4cec-8413-2239fd20b509",
   "metadata": {},
   "source": [
    "## Truncated half-Cauchy\n",
    "\n",
    "[top](#Table-of-content)"
   ]
  },
  {
   "cell_type": "code",
   "execution_count": null,
   "id": "39ef1f17-dae1-4039-b6e9-9c6b9ece5e93",
   "metadata": {},
   "outputs": [],
   "source": [
    "generator = seq.TruncHalfCauchy(\n",
    "    scale=seq.Constant(seq.RandUniform(low=0.1, high=2.0)),\n",
    "    max_value=seq.Full(10.0),\n",
    ")\n",
    "print(generator)\n",
    "fig = plot_sequence(generator, batch_size=4)"
   ]
  },
  {
   "cell_type": "code",
   "execution_count": null,
   "id": "7b6ed62d-d433-4cd8-bc22-8e4b8b6f9f98",
   "metadata": {},
   "outputs": [],
   "source": [
    "fig = hist_sequence(generator, bins=500)"
   ]
  },
  {
   "cell_type": "markdown",
   "id": "724750d0-97ce-4403-b031-226ad9590e52",
   "metadata": {},
   "source": [
    "## Truncated half-Normal\n",
    "\n",
    "[top](#Table-of-content)"
   ]
  },
  {
   "cell_type": "code",
   "execution_count": null,
   "id": "55734828-c52a-4e5e-a24d-6c971e83b43c",
   "metadata": {},
   "outputs": [],
   "source": [
    "generator = seq.TruncHalfNormal(\n",
    "    std=seq.Constant(seq.RandUniform(low=0.1, high=2.0)),\n",
    "    max_value=seq.Full(10.0),\n",
    ")\n",
    "print(generator)\n",
    "fig = plot_sequence(generator, batch_size=4)"
   ]
  },
  {
   "cell_type": "code",
   "execution_count": null,
   "id": "eb7782c4-eb0b-4dab-992b-e7c68752aeb5",
   "metadata": {},
   "outputs": [],
   "source": [
    "fig = hist_sequence(generator, bins=500)"
   ]
  },
  {
   "cell_type": "markdown",
   "id": "d8b3f9a4-bab4-4e4a-9a29-cb60c9cff6cf",
   "metadata": {},
   "source": [
    "## Truncated log-Normal\n",
    "\n",
    "[top](#Table-of-content)"
   ]
  },
  {
   "cell_type": "code",
   "execution_count": null,
   "id": "f0560e0a-cfd5-4e11-b0f5-13fa93acf9f4",
   "metadata": {},
   "outputs": [],
   "source": [
    "generator = seq.TruncLogNormal(\n",
    "    mean=seq.Constant(seq.RandUniform(low=-2.0, high=2.0)),\n",
    "    std=seq.Constant(seq.RandUniform(low=0.1, high=2.0)),\n",
    "    min_value=seq.Full(0.0),\n",
    "    max_value=seq.Full(6.0),\n",
    ")\n",
    "print(generator)\n",
    "fig = plot_sequence(generator, batch_size=4)"
   ]
  },
  {
   "cell_type": "code",
   "execution_count": null,
   "id": "ed9d40bc-43b4-4fa9-8c7f-4885dd091c35",
   "metadata": {},
   "outputs": [],
   "source": [
    "fig = hist_sequence(generator, bins=500)"
   ]
  },
  {
   "cell_type": "markdown",
   "id": "55b26075-11cc-4192-b166-d1f890c859d3",
   "metadata": {},
   "source": [
    "## Uniform\n",
    "\n",
    "[top](#Table-of-content)"
   ]
  },
  {
   "cell_type": "code",
   "execution_count": null,
   "id": "b2d9690a-e596-46d0-a417-93cb87fc3e85",
   "metadata": {},
   "outputs": [],
   "source": [
    "generator = seq.Uniform(\n",
    "    low=seq.RandUniform(low=-5.0, high=5.0), high=seq.RandUniform(low=10.0, high=20.0)\n",
    ")\n",
    "print(generator)\n",
    "fig = plot_sequence(generator, batch_size=4)"
   ]
  },
  {
   "cell_type": "code",
   "execution_count": null,
   "id": "e0f84406-d5d7-4b96-a0cb-0d9457ec81ad",
   "metadata": {},
   "outputs": [],
   "source": [
    "fig = hist_sequence(generator, bins=500)"
   ]
  },
  {
   "cell_type": "markdown",
   "id": "090ff832-5f73-47ab-853f-c22e7135d1c4",
   "metadata": {},
   "source": [
    "# Continuous univariate supported on a semi-inifinte interval"
   ]
  },
  {
   "cell_type": "markdown",
   "id": "be67a456-d27f-4280-b67d-566ab896eb69",
   "metadata": {},
   "source": [
    "## Exponential\n",
    "\n",
    "[top](#Table-of-content)"
   ]
  },
  {
   "cell_type": "code",
   "execution_count": null,
   "id": "4f08dd5f-ccde-4779-824d-5d621e93dbf2",
   "metadata": {},
   "outputs": [],
   "source": [
    "generator = seq.Exponential(rate=seq.Constant(seq.RandUniform(low=0.1, high=2.0)))\n",
    "print(generator)\n",
    "fig = plot_sequence(generator, batch_size=4)"
   ]
  },
  {
   "cell_type": "code",
   "execution_count": null,
   "id": "d553103f-51b3-4708-8619-a10be3119153",
   "metadata": {},
   "outputs": [],
   "source": [
    "fig = hist_sequence(generator, bins=500, range=(0, 5))\n",
    "fig = hist_sequence(generator, bins=500, scale='log10')"
   ]
  },
  {
   "cell_type": "markdown",
   "id": "00e1db50-2777-4221-8ae3-ece1e6c23d8a",
   "metadata": {},
   "source": [
    "## Half-Cauchy\n",
    "\n",
    "[top](#Table-of-content)"
   ]
  },
  {
   "cell_type": "code",
   "execution_count": null,
   "id": "c6dd281f-cc3b-4dfb-9531-b3ef3bce4737",
   "metadata": {},
   "outputs": [],
   "source": [
    "generator = seq.HalfCauchy(scale=seq.Constant(seq.RandUniform(low=0.1, high=2.0)))\n",
    "print(generator)\n",
    "fig = plot_sequence(generator, batch_size=4)"
   ]
  },
  {
   "cell_type": "code",
   "execution_count": null,
   "id": "4f94c599-70b9-41a7-b911-33c7f7fc08c2",
   "metadata": {},
   "outputs": [],
   "source": [
    "fig = hist_sequence(generator, bins=500, range=(0, 8))\n",
    "fig = hist_sequence(generator, bins=500, scale='log10')"
   ]
  },
  {
   "cell_type": "markdown",
   "id": "f31289ee-ed58-46f4-85f8-580381183c56",
   "metadata": {},
   "source": [
    "## Half-Normal\n",
    "\n",
    "[top](#Table-of-content)"
   ]
  },
  {
   "cell_type": "code",
   "execution_count": null,
   "id": "46bb3739-9326-42e4-aaf2-f8bcde7ffbe7",
   "metadata": {},
   "outputs": [],
   "source": [
    "generator = seq.HalfNormal(std=seq.Constant(seq.RandUniform(low=0.1, high=2.0)))\n",
    "print(generator)\n",
    "fig = plot_sequence(generator, batch_size=4)"
   ]
  },
  {
   "cell_type": "code",
   "execution_count": null,
   "id": "c1113295-c222-462c-ac84-55da9e43c5a4",
   "metadata": {},
   "outputs": [],
   "source": [
    "fig = hist_sequence(generator, bins=500, range=(0, 3))\n",
    "fig = hist_sequence(generator, bins=500, scale='log10')"
   ]
  },
  {
   "cell_type": "markdown",
   "id": "cabfb114-f9c7-4e4f-a1da-7a2b02dfea29",
   "metadata": {},
   "source": [
    "## Log-Normal\n",
    "\n",
    "[top](#Table-of-content)"
   ]
  },
  {
   "cell_type": "code",
   "execution_count": null,
   "id": "2dc411d4-e895-4361-b5ac-8adc32ac91da",
   "metadata": {},
   "outputs": [],
   "source": [
    "generator = seq.LogNormal(\n",
    "    mean=seq.Constant(seq.RandUniform(low=-2.0, high=2.0)),\n",
    "    std=seq.Constant(seq.RandUniform(low=0.1, high=2.0)),\n",
    ")\n",
    "print(generator)\n",
    "fig = plot_sequence(generator, batch_size=4)"
   ]
  },
  {
   "cell_type": "code",
   "execution_count": null,
   "id": "91e81981-5f74-44b6-86ab-afc895a95310",
   "metadata": {},
   "outputs": [],
   "source": [
    "fig = hist_sequence(generator, bins=500, range=(0, 10))\n",
    "fig = hist_sequence(generator, bins=500, scale='log10')"
   ]
  },
  {
   "cell_type": "markdown",
   "id": "b3baa7d0-fa91-407c-8212-cd37bf61df17",
   "metadata": {},
   "source": [
    "# Continuous univariate supported on an inifinte interval\n",
    "\n",
    "[top](#Table-of-content)"
   ]
  },
  {
   "cell_type": "markdown",
   "id": "1eb6014b-51be-4c54-9191-db577bc8f64a",
   "metadata": {},
   "source": [
    "## Cauchy\n",
    "\n",
    "[top](#Table-of-content)"
   ]
  },
  {
   "cell_type": "code",
   "execution_count": null,
   "id": "4c02f7f2-7ebe-43ee-aeb8-e214bd9e000a",
   "metadata": {},
   "outputs": [],
   "source": [
    "generator = seq.Cauchy(\n",
    "    loc=seq.Constant(seq.RandUniform(low=-5.0, high=5.0)),\n",
    "    scale=seq.Constant(seq.RandUniform(low=0.1, high=2.0)),\n",
    ")\n",
    "print(generator)\n",
    "fig = plot_sequence(generator, batch_size=4)"
   ]
  },
  {
   "cell_type": "code",
   "execution_count": null,
   "id": "1a1c1f1c-5957-434a-923f-e0746cc00704",
   "metadata": {},
   "outputs": [],
   "source": [
    "fig = hist_sequence(generator, bins=500, range=(-10, 10))"
   ]
  },
  {
   "cell_type": "markdown",
   "id": "6ed62d77-316d-45c4-b9ed-d5d828ce1921",
   "metadata": {},
   "source": [
    "## Normal\n",
    "\n",
    "[top](#Table-of-content)"
   ]
  },
  {
   "cell_type": "code",
   "execution_count": null,
   "id": "f76ef8c5-8243-4674-9132-d06cb1adc8f4",
   "metadata": {},
   "outputs": [],
   "source": [
    "generator = seq.Normal(\n",
    "    mean=seq.Constant(seq.RandUniform(low=-5.0, high=5.0)),\n",
    "    std=seq.Constant(seq.RandUniform(low=0.1, high=2.0)),\n",
    ")\n",
    "print(generator)\n",
    "fig = plot_sequence(generator, batch_size=4)"
   ]
  },
  {
   "cell_type": "code",
   "execution_count": null,
   "id": "2011bdce-3df0-4e9b-8cef-52163eba72f8",
   "metadata": {},
   "outputs": [],
   "source": [
    "fig = hist_sequence(generator, bins=500, range=(-4, 4))"
   ]
  },
  {
   "cell_type": "markdown",
   "id": "1cfd6531-e26d-47d8-b6d8-fbfa9cc29767",
   "metadata": {},
   "source": [
    "# Discrete univariate supported on a semi-infinite support\n",
    "\n",
    "[top](#Table-of-content)"
   ]
  },
  {
   "cell_type": "markdown",
   "id": "a3bed96a-5f0e-4174-9b6a-28ebed2617a3",
   "metadata": {},
   "source": [
    "## Poisson\n",
    "\n",
    "[top](#Table-of-content)"
   ]
  },
  {
   "cell_type": "code",
   "execution_count": null,
   "id": "2ee27d5d-d9ac-4941-934d-b6ae53642944",
   "metadata": {},
   "outputs": [],
   "source": [
    "generator = seq.Poisson(rate=seq.Constant(seq.RandUniform(low=0.1, high=10.0)))\n",
    "print(generator)\n",
    "fig = plot_sequence(generator, batch_size=4)"
   ]
  },
  {
   "cell_type": "code",
   "execution_count": null,
   "id": "92c0e67a-6e18-45a7-9628-e735af9724af",
   "metadata": {},
   "outputs": [],
   "source": [
    "fig = hist_sequence(generator, bins=100, range=(0, 10))"
   ]
  },
  {
   "cell_type": "code",
   "execution_count": null,
   "id": "b2056836-2001-40cb-91b0-d3f1bfbe0e5c",
   "metadata": {},
   "outputs": [],
   "source": []
  }
 ],
 "metadata": {
  "kernelspec": {
   "display_name": "Python 3 (ipykernel)",
   "language": "python",
   "name": "python3"
  },
  "language_info": {
   "codemirror_mode": {
    "name": "ipython",
    "version": 3
   },
   "file_extension": ".py",
   "mimetype": "text/x-python",
   "name": "python",
   "nbconvert_exporter": "python",
   "pygments_lexer": "ipython3",
   "version": "3.11.7"
  }
 },
 "nbformat": 4,
 "nbformat_minor": 5
}
