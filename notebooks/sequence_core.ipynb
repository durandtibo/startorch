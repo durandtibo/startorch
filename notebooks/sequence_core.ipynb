{
 "cells": [
  {
   "cell_type": "code",
   "execution_count": null,
   "id": "751cb2fb-d215-44fd-90ae-3807f2f23f58",
   "metadata": {},
   "outputs": [],
   "source": [
    "%matplotlib inline"
   ]
  },
  {
   "cell_type": "code",
   "execution_count": null,
   "id": "6f43e56d-7bb0-4b92-8192-04c49ddd0bad",
   "metadata": {},
   "outputs": [],
   "source": [
    "import math\n",
    "import torch\n",
    "import numpy as np\n",
    "import matplotlib.pyplot as plt\n",
    "import seaborn as sns\n",
    "\n",
    "from startorch import sequence as seq\n",
    "from startorch.utils.plot import hist_sequence, plot_sequence"
   ]
  },
  {
   "cell_type": "code",
   "execution_count": null,
   "id": "3722bab3-5696-4ff9-95e1-ae8f87e9b5b8",
   "metadata": {},
   "outputs": [],
   "source": [
    "plt.style.use(\"bmh\")\n",
    "plt.rcParams[\"figure.figsize\"] = (16, 5)"
   ]
  },
  {
   "cell_type": "markdown",
   "id": "6202ff0b-d70e-46f2-ba8e-d93ea5e4899e",
   "metadata": {},
   "source": [
    "# Table of content\n",
    "\n",
    "- [Continuous univariate supported on a bounded interval](#Continuous-univariate-supported-on-a-bounded-interval)\n",
    "    - [Asinh-uniform](#Asinh-uniform)\n",
    "    - [Log-uniform](#Log-uniform)\n",
    "    - [Truncated Cauchy](#Truncated-Cauchy)\n",
    "    - [Truncated Exponential](#Truncated-Exponential)\n",
    "    - [Truncated Normal](#Truncated-Normal)\n",
    "    - [Truncated half-Cauchy](#Truncated-half-Cauchy)\n",
    "    - [Truncated half-Normal](#Truncated-half-Normal)\n",
    "    - [Truncated log-Normal](#Truncated-log-Normal)\n",
    "    - [Uniform](#Uniform)\n",
    "- [Continuous univariate supported on a semi-inifinte interval](#Continuous-univariate-supported-on-a-semi-inifinte-interval)\n",
    "    - [Exponential](#Exponential)\n",
    "    - [Half-Cauchy](#Half-Cauchy)\n",
    "    - [Half-Normal](#Half-Normal)\n",
    "    - [Log-Normal](#Log-Normal)\n",
    "- [Continuous univariate supported on an inifinte interval](#Continuous-univariate-supported-on-an-inifinte-interval)\n",
    "    - [Cauchy](#Cauchy)\n",
    "    - [Normal](#Normal)\n",
    "    - [Wiener process](#wiener-process)\n",
    "- [Discrete univariate supported on a semi-infinite support](#Discrete-univariate-supported-on-a-semi-infinite-support)\n",
    "    - [Poisson](#Poisson)\n",
    "- [Discrete univariate supported on a finite support](#Discrete-univariate-supported-on-a-finite-support)\n",
    "    - [Multinomial](#Multinomial)\n",
    "    - [Uniform categorical](#Uniform-categorical)\n",
    "    - [Uniform integer](#Uniform-integer)"
   ]
  },
  {
   "cell_type": "markdown",
   "id": "2e08d98a-f3b6-4bf3-b9aa-1fe932cc25fb",
   "metadata": {},
   "source": [
    "# Continuous univariate supported on a bounded interval\n",
    "\n",
    "[top](#table-of-content)"
   ]
  },
  {
   "cell_type": "markdown",
   "id": "fb1c6a99-927d-4f28-bf99-0de5c48aa4f3",
   "metadata": {},
   "source": [
    "## Asinh-uniform\n",
    "\n",
    "[top](#Table-of-content)"
   ]
  },
  {
   "cell_type": "code",
   "execution_count": null,
   "id": "213d34dd-1a1b-4c8e-9a88-0d9662716a9f",
   "metadata": {},
   "outputs": [],
   "source": [
    "generator = seq.RandAsinhUniform(low=-1000.0, high=1000.0)\n",
    "print(generator)\n",
    "fig = plot_sequence(generator, batch_size=4)"
   ]
  },
  {
   "cell_type": "code",
   "execution_count": null,
   "id": "e90a9ee7-66a4-40dd-8b0f-ca7ec518b943",
   "metadata": {},
   "outputs": [],
   "source": [
    "fig = hist_sequence(generator, bins=500)\n",
    "fig = hist_sequence(generator, bins=500, scale='asinh')"
   ]
  },
  {
   "cell_type": "markdown",
   "id": "a2e2bbaf-0b70-4c93-a1f1-796dcb5301b0",
   "metadata": {},
   "source": [
    "## Log-uniform\n",
    "\n",
    "[top](#Table-of-content)"
   ]
  },
  {
   "cell_type": "code",
   "execution_count": null,
   "id": "051f18c2-6b87-4ce1-98b9-1269fab7f79a",
   "metadata": {},
   "outputs": [],
   "source": [
    "generator = seq.RandLogUniform(low=0.001, high=1000.0)\n",
    "print(generator)\n",
    "fig = plot_sequence(generator, batch_size=4)"
   ]
  },
  {
   "cell_type": "code",
   "execution_count": null,
   "id": "d0ee5453-ea24-49b9-9dbd-83ab72b9e7b8",
   "metadata": {},
   "outputs": [],
   "source": [
    "fig = hist_sequence(generator, bins=500)\n",
    "fig = hist_sequence(generator, bins=500, scale='log10')"
   ]
  },
  {
   "cell_type": "markdown",
   "id": "d2f24a01-7f34-4b9c-83e3-ee4e5a19e2be",
   "metadata": {},
   "source": [
    "## Truncated Cauchy\n",
    "\n",
    "[top](#Table-of-content)"
   ]
  },
  {
   "cell_type": "code",
   "execution_count": null,
   "id": "a69eb981-c1ab-4bab-bc0c-cd33bf2872fe",
   "metadata": {},
   "outputs": [],
   "source": [
    "generator = seq.RandTruncCauchy(loc=0.0, scale=1.0)\n",
    "print(generator)\n",
    "fig = plot_sequence(generator, batch_size=4)"
   ]
  },
  {
   "cell_type": "code",
   "execution_count": null,
   "id": "e21247ed-3b16-4fad-af23-c9027af8f3ec",
   "metadata": {},
   "outputs": [],
   "source": [
    "fig = hist_sequence(generator, bins=500)"
   ]
  },
  {
   "cell_type": "markdown",
   "id": "54465b0b-2236-4fce-b8c1-e8bcf9979134",
   "metadata": {},
   "source": [
    "## Truncated Exponential\n",
    "\n",
    "[top](#Table-of-content)"
   ]
  },
  {
   "cell_type": "code",
   "execution_count": null,
   "id": "480661c9-aacd-4c73-b42b-39e2ecb56b93",
   "metadata": {},
   "outputs": [],
   "source": [
    "generator = seq.RandTruncExponential(rate=1.0, max_value=5.0)\n",
    "print(generator)\n",
    "fig = plot_sequence(generator, batch_size=4)"
   ]
  },
  {
   "cell_type": "code",
   "execution_count": null,
   "id": "af45a7c5-5b2f-4b05-a7b7-9616e18b82f4",
   "metadata": {},
   "outputs": [],
   "source": [
    "fig = hist_sequence(generator, bins=500)"
   ]
  },
  {
   "cell_type": "markdown",
   "id": "68717ca8-715b-4885-9cf8-48e46d0286ae",
   "metadata": {},
   "source": [
    "## Truncated Normal\n",
    "\n",
    "[top](#Table-of-content)"
   ]
  },
  {
   "cell_type": "code",
   "execution_count": null,
   "id": "1fec683a-ef76-4161-b393-3aa29306d1a3",
   "metadata": {},
   "outputs": [],
   "source": [
    "generator = seq.RandTruncNormal(mean=1.0, std=2.0, min_value=-2.0, max_value=4.0)\n",
    "print(generator)\n",
    "fig = plot_sequence(generator, batch_size=4)"
   ]
  },
  {
   "cell_type": "code",
   "execution_count": null,
   "id": "58493cb2-3c3b-4486-b20b-34d79bbfe258",
   "metadata": {},
   "outputs": [],
   "source": [
    "fig = hist_sequence(generator, bins=500)"
   ]
  },
  {
   "cell_type": "markdown",
   "id": "323b1233-e5f9-4cec-8413-2239fd20b509",
   "metadata": {},
   "source": [
    "## Truncated half-Cauchy\n",
    "\n",
    "[top](#Table-of-content)"
   ]
  },
  {
   "cell_type": "code",
   "execution_count": null,
   "id": "39ef1f17-dae1-4039-b6e9-9c6b9ece5e93",
   "metadata": {},
   "outputs": [],
   "source": [
    "generator = seq.RandTruncHalfCauchy(scale=1.0)\n",
    "print(generator)\n",
    "fig = plot_sequence(generator, batch_size=4)"
   ]
  },
  {
   "cell_type": "code",
   "execution_count": null,
   "id": "7b6ed62d-d433-4cd8-bc22-8e4b8b6f9f98",
   "metadata": {},
   "outputs": [],
   "source": [
    "fig = hist_sequence(generator, bins=500)"
   ]
  },
  {
   "cell_type": "markdown",
   "id": "724750d0-97ce-4403-b031-226ad9590e52",
   "metadata": {},
   "source": [
    "## Truncated half-Normal\n",
    "\n",
    "[top](#Table-of-content)"
   ]
  },
  {
   "cell_type": "code",
   "execution_count": null,
   "id": "55734828-c52a-4e5e-a24d-6c971e83b43c",
   "metadata": {},
   "outputs": [],
   "source": [
    "generator = seq.RandTruncHalfNormal(std=1.0, max_value=2.0)\n",
    "print(generator)\n",
    "fig = plot_sequence(generator, batch_size=4)"
   ]
  },
  {
   "cell_type": "code",
   "execution_count": null,
   "id": "eb7782c4-eb0b-4dab-992b-e7c68752aeb5",
   "metadata": {},
   "outputs": [],
   "source": [
    "fig = hist_sequence(generator, bins=500)"
   ]
  },
  {
   "cell_type": "markdown",
   "id": "d8b3f9a4-bab4-4e4a-9a29-cb60c9cff6cf",
   "metadata": {},
   "source": [
    "## Truncated log-Normal\n",
    "\n",
    "[top](#Table-of-content)"
   ]
  },
  {
   "cell_type": "code",
   "execution_count": null,
   "id": "f0560e0a-cfd5-4e11-b0f5-13fa93acf9f4",
   "metadata": {},
   "outputs": [],
   "source": [
    "generator = seq.RandTruncLogNormal(mean=0.0, std=1.0, max_value=2.0)\n",
    "print(generator)\n",
    "fig = plot_sequence(generator, batch_size=4)"
   ]
  },
  {
   "cell_type": "code",
   "execution_count": null,
   "id": "ed9d40bc-43b4-4fa9-8c7f-4885dd091c35",
   "metadata": {},
   "outputs": [],
   "source": [
    "fig = hist_sequence(generator, bins=500)"
   ]
  },
  {
   "cell_type": "markdown",
   "id": "55b26075-11cc-4192-b166-d1f890c859d3",
   "metadata": {},
   "source": [
    "## Uniform\n",
    "\n",
    "[top](#Table-of-content)"
   ]
  },
  {
   "cell_type": "code",
   "execution_count": null,
   "id": "b2d9690a-e596-46d0-a417-93cb87fc3e85",
   "metadata": {},
   "outputs": [],
   "source": [
    "generator = seq.RandUniform(low=-5, high=5)\n",
    "print(generator)\n",
    "fig = plot_sequence(generator, batch_size=4)"
   ]
  },
  {
   "cell_type": "code",
   "execution_count": null,
   "id": "e0f84406-d5d7-4b96-a0cb-0d9457ec81ad",
   "metadata": {},
   "outputs": [],
   "source": [
    "fig = hist_sequence(generator, bins=500)"
   ]
  },
  {
   "cell_type": "markdown",
   "id": "090ff832-5f73-47ab-853f-c22e7135d1c4",
   "metadata": {},
   "source": [
    "# Continuous univariate supported on a semi-inifinte interval"
   ]
  },
  {
   "cell_type": "markdown",
   "id": "be67a456-d27f-4280-b67d-566ab896eb69",
   "metadata": {},
   "source": [
    "## Exponential\n",
    "\n",
    "[top](#Table-of-content)"
   ]
  },
  {
   "cell_type": "code",
   "execution_count": null,
   "id": "4f08dd5f-ccde-4779-824d-5d621e93dbf2",
   "metadata": {},
   "outputs": [],
   "source": [
    "generator = seq.RandExponential(rate=0.1)\n",
    "print(generator)\n",
    "fig = plot_sequence(generator, batch_size=4)"
   ]
  },
  {
   "cell_type": "code",
   "execution_count": null,
   "id": "d553103f-51b3-4708-8619-a10be3119153",
   "metadata": {},
   "outputs": [],
   "source": [
    "fig = hist_sequence(generator, bins=500, range=(0, 5))"
   ]
  },
  {
   "cell_type": "markdown",
   "id": "00e1db50-2777-4221-8ae3-ece1e6c23d8a",
   "metadata": {},
   "source": [
    "## Half-Cauchy\n",
    "\n",
    "[top](#Table-of-content)"
   ]
  },
  {
   "cell_type": "code",
   "execution_count": null,
   "id": "c6dd281f-cc3b-4dfb-9531-b3ef3bce4737",
   "metadata": {},
   "outputs": [],
   "source": [
    "generator = seq.RandHalfCauchy(scale=1.0)\n",
    "print(generator)\n",
    "fig = plot_sequence(generator, batch_size=4)"
   ]
  },
  {
   "cell_type": "code",
   "execution_count": null,
   "id": "4f94c599-70b9-41a7-b911-33c7f7fc08c2",
   "metadata": {},
   "outputs": [],
   "source": [
    "fig = hist_sequence(generator, bins=500, range=(0, 8))"
   ]
  },
  {
   "cell_type": "markdown",
   "id": "f31289ee-ed58-46f4-85f8-580381183c56",
   "metadata": {},
   "source": [
    "## Half-Normal\n",
    "\n",
    "[top](#Table-of-content)"
   ]
  },
  {
   "cell_type": "code",
   "execution_count": null,
   "id": "46bb3739-9326-42e4-aaf2-f8bcde7ffbe7",
   "metadata": {},
   "outputs": [],
   "source": [
    "generator = seq.RandHalfNormal(std=1.0)\n",
    "print(generator)\n",
    "fig = plot_sequence(generator, batch_size=4)"
   ]
  },
  {
   "cell_type": "code",
   "execution_count": null,
   "id": "c1113295-c222-462c-ac84-55da9e43c5a4",
   "metadata": {},
   "outputs": [],
   "source": [
    "fig = hist_sequence(generator, bins=500, range=(0, 3))"
   ]
  },
  {
   "cell_type": "markdown",
   "id": "cabfb114-f9c7-4e4f-a1da-7a2b02dfea29",
   "metadata": {},
   "source": [
    "## Log-Normal\n",
    "\n",
    "[top](#Table-of-content)"
   ]
  },
  {
   "cell_type": "code",
   "execution_count": null,
   "id": "2dc411d4-e895-4361-b5ac-8adc32ac91da",
   "metadata": {},
   "outputs": [],
   "source": [
    "generator = seq.RandLogNormal(mean=0.0, std=1.0)\n",
    "print(generator)\n",
    "fig = plot_sequence(generator, batch_size=4)"
   ]
  },
  {
   "cell_type": "code",
   "execution_count": null,
   "id": "91e81981-5f74-44b6-86ab-afc895a95310",
   "metadata": {},
   "outputs": [],
   "source": [
    "fig = hist_sequence(generator, bins=500, range=(0, 10))"
   ]
  },
  {
   "cell_type": "markdown",
   "id": "b3baa7d0-fa91-407c-8212-cd37bf61df17",
   "metadata": {},
   "source": [
    "# Continuous univariate supported on an inifinte interval\n",
    "\n",
    "[top](#Table-of-content)"
   ]
  },
  {
   "cell_type": "markdown",
   "id": "1eb6014b-51be-4c54-9191-db577bc8f64a",
   "metadata": {},
   "source": [
    "## Cauchy\n",
    "\n",
    "[top](#Table-of-content)"
   ]
  },
  {
   "cell_type": "code",
   "execution_count": null,
   "id": "4c02f7f2-7ebe-43ee-aeb8-e214bd9e000a",
   "metadata": {},
   "outputs": [],
   "source": [
    "generator = seq.RandCauchy(loc=0.0, scale=1.0)\n",
    "print(generator)\n",
    "fig = plot_sequence(generator, batch_size=4)"
   ]
  },
  {
   "cell_type": "code",
   "execution_count": null,
   "id": "1a1c1f1c-5957-434a-923f-e0746cc00704",
   "metadata": {},
   "outputs": [],
   "source": [
    "fig = hist_sequence(generator, bins=500, range=(-10, 10))"
   ]
  },
  {
   "cell_type": "markdown",
   "id": "6ed62d77-316d-45c4-b9ed-d5d828ce1921",
   "metadata": {},
   "source": [
    "## Normal\n",
    "\n",
    "[top](#Table-of-content)"
   ]
  },
  {
   "cell_type": "code",
   "execution_count": null,
   "id": "f76ef8c5-8243-4674-9132-d06cb1adc8f4",
   "metadata": {},
   "outputs": [],
   "source": [
    "generator = seq.RandNormal(mean=0.0, std=1.0)\n",
    "print(generator)\n",
    "fig = plot_sequence(generator, batch_size=4)"
   ]
  },
  {
   "cell_type": "code",
   "execution_count": null,
   "id": "2011bdce-3df0-4e9b-8cef-52163eba72f8",
   "metadata": {},
   "outputs": [],
   "source": [
    "fig = hist_sequence(generator, bins=500, range=(-4, 4))"
   ]
  },
  {
   "cell_type": "markdown",
   "id": "d1bb271a-0cd2-4384-afd5-a817286ccf67",
   "metadata": {},
   "source": [
    "## Wiener process\n",
    "\n",
    "[top](#Table-of-content)"
   ]
  },
  {
   "cell_type": "code",
   "execution_count": null,
   "id": "7006d875-66ab-43ec-a7ad-3665c4338807",
   "metadata": {},
   "outputs": [],
   "source": [
    "generator = seq.RandWienerProcess()\n",
    "print(generator)\n",
    "fig = plot_sequence(generator, batch_size=10)"
   ]
  },
  {
   "cell_type": "code",
   "execution_count": null,
   "id": "b76bf549-3b7a-45f1-9aac-68fbaf6fc5d3",
   "metadata": {},
   "outputs": [],
   "source": [
    "fig = hist_sequence(generator, bins=500, range=(-100.0, 100.0))"
   ]
  },
  {
   "cell_type": "markdown",
   "id": "1cfd6531-e26d-47d8-b6d8-fbfa9cc29767",
   "metadata": {},
   "source": [
    "# Discrete univariate supported on a semi-infinite support\n",
    "\n",
    "[top](#Table-of-content)"
   ]
  },
  {
   "cell_type": "markdown",
   "id": "a3bed96a-5f0e-4174-9b6a-28ebed2617a3",
   "metadata": {},
   "source": [
    "## Poisson\n",
    "\n",
    "[top](#Table-of-content)"
   ]
  },
  {
   "cell_type": "code",
   "execution_count": null,
   "id": "2ee27d5d-d9ac-4941-934d-b6ae53642944",
   "metadata": {},
   "outputs": [],
   "source": [
    "generator = seq.RandPoisson(rate=5.0)\n",
    "print(generator)\n",
    "fig = plot_sequence(generator, batch_size=4)"
   ]
  },
  {
   "cell_type": "code",
   "execution_count": null,
   "id": "92c0e67a-6e18-45a7-9628-e735af9724af",
   "metadata": {},
   "outputs": [],
   "source": [
    "fig = hist_sequence(generator, bins=100, range=(0, 10))"
   ]
  },
  {
   "cell_type": "markdown",
   "id": "8387a397-78cf-4736-a3ec-76e673605de0",
   "metadata": {},
   "source": [
    "# Discrete univariate supported on a finite support\n",
    "\n",
    "[top](#Table-of-content)"
   ]
  },
  {
   "cell_type": "markdown",
   "id": "9b5afa6e-f451-4ce2-b1fb-888a2ed00749",
   "metadata": {},
   "source": [
    "## Multinomial\n",
    "\n",
    "[top](#Table-of-content)"
   ]
  },
  {
   "cell_type": "code",
   "execution_count": null,
   "id": "996f644b-7f81-4c3e-8baa-adeedd9876a3",
   "metadata": {},
   "outputs": [],
   "source": [
    "generator = seq.Multinomial.create_linear_weights(num_categories=50)\n",
    "print(generator)\n",
    "fig = plot_sequence(generator, batch_size=4)"
   ]
  },
  {
   "cell_type": "code",
   "execution_count": null,
   "id": "205ffcc1-e849-45b2-b7de-7e9df86c273c",
   "metadata": {},
   "outputs": [],
   "source": [
    "fig = hist_sequence(generator, bins=50)"
   ]
  },
  {
   "cell_type": "code",
   "execution_count": null,
   "id": "d1d4006f-4f79-4389-a801-c19d20b2ab71",
   "metadata": {},
   "outputs": [],
   "source": [
    "generator = seq.Multinomial.create_exp_weights(num_categories=50)\n",
    "print(generator)\n",
    "fig = plot_sequence(generator, batch_size=4)"
   ]
  },
  {
   "cell_type": "code",
   "execution_count": null,
   "id": "a7540076-9fdc-41ac-81d1-5e2f1f23487e",
   "metadata": {},
   "outputs": [],
   "source": [
    "fig = hist_sequence(generator, bins=50)"
   ]
  },
  {
   "cell_type": "code",
   "execution_count": null,
   "id": "046edc68-e606-4fd1-9a18-aca9937bbee3",
   "metadata": {},
   "outputs": [],
   "source": [
    "generator = seq.Multinomial.create_uniform_weights(num_categories=50)\n",
    "print(generator)\n",
    "fig = plot_sequence(generator, batch_size=4)"
   ]
  },
  {
   "cell_type": "code",
   "execution_count": null,
   "id": "110dd1eb-992c-4eb5-ba37-a1f1b090d8b5",
   "metadata": {},
   "outputs": [],
   "source": [
    "fig = hist_sequence(generator, bins=50)"
   ]
  },
  {
   "cell_type": "markdown",
   "id": "6898db73-533a-428a-822e-cf6ae2fd3988",
   "metadata": {},
   "source": [
    "## Uniform categorical\n",
    "\n",
    "[top](#Table-of-content)"
   ]
  },
  {
   "cell_type": "code",
   "execution_count": null,
   "id": "2b5a11cb-e52a-4e3e-8c31-4939dcb2bb55",
   "metadata": {},
   "outputs": [],
   "source": [
    "generator = seq.UniformCategorical(num_categories=50)\n",
    "print(generator)\n",
    "fig = plot_sequence(generator, batch_size=4)"
   ]
  },
  {
   "cell_type": "code",
   "execution_count": null,
   "id": "02a31367-6951-426c-b204-8529b259168e",
   "metadata": {},
   "outputs": [],
   "source": [
    "fig = hist_sequence(generator, bins=50)"
   ]
  },
  {
   "cell_type": "markdown",
   "id": "35b78d70-c22f-4bca-b33b-4ac1c7621a45",
   "metadata": {},
   "source": [
    "## Uniform integer\n",
    "\n",
    "[top](#Table-of-content)"
   ]
  },
  {
   "cell_type": "code",
   "execution_count": null,
   "id": "69785bcb-c08b-44a8-aad5-2842ef50a35d",
   "metadata": {},
   "outputs": [],
   "source": [
    "generator = seq.RandInt(low=5, high=50)\n",
    "print(generator)\n",
    "fig = plot_sequence(generator, batch_size=4)"
   ]
  },
  {
   "cell_type": "code",
   "execution_count": null,
   "id": "4d15e519-f243-471e-b1e1-2e69878ec076",
   "metadata": {},
   "outputs": [],
   "source": [
    "fig = hist_sequence(generator, bins=45)"
   ]
  },
  {
   "cell_type": "code",
   "execution_count": null,
   "id": "114b6077-6ecb-42c5-a7a5-f90869f8e86c",
   "metadata": {},
   "outputs": [],
   "source": []
  }
 ],
 "metadata": {
  "kernelspec": {
   "display_name": "Python 3 (ipykernel)",
   "language": "python",
   "name": "python3"
  },
  "language_info": {
   "codemirror_mode": {
    "name": "ipython",
    "version": 3
   },
   "file_extension": ".py",
   "mimetype": "text/x-python",
   "name": "python",
   "nbconvert_exporter": "python",
   "pygments_lexer": "ipython3",
   "version": "3.10.12"
  }
 },
 "nbformat": 4,
 "nbformat_minor": 5
}
