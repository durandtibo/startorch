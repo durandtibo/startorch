{
 "cells": [
  {
   "cell_type": "code",
   "execution_count": null,
   "id": "751cb2fb-d215-44fd-90ae-3807f2f23f58",
   "metadata": {},
   "outputs": [],
   "source": [
    "%matplotlib inline"
   ]
  },
  {
   "cell_type": "code",
   "execution_count": null,
   "id": "6f43e56d-7bb0-4b92-8192-04c49ddd0bad",
   "metadata": {},
   "outputs": [],
   "source": [
    "import math\n",
    "import torch\n",
    "import numpy as np\n",
    "import matplotlib.pyplot as plt\n",
    "import seaborn as sns\n",
    "\n",
    "from sklearn.feature_selection import f_regression, mutual_info_regression\n",
    "\n",
    "from startorch import example\n",
    "from startorch.utils.seed import get_torch_generator\n",
    "from startorch.plot.matplotlib import hist_sequence, plot_sequence, hist_feature"
   ]
  },
  {
   "cell_type": "code",
   "execution_count": null,
   "id": "3722bab3-5696-4ff9-95e1-ae8f87e9b5b8",
   "metadata": {},
   "outputs": [],
   "source": [
    "plt.style.use(\"bmh\")\n",
    "plt.rcParams[\"figure.figsize\"] = (16, 5)"
   ]
  },
  {
   "cell_type": "code",
   "execution_count": null,
   "id": "086b8840-fd9a-4b35-a8d2-50a959aae677",
   "metadata": {},
   "outputs": [],
   "source": [
    "random_seed = 15803713921897248048"
   ]
  },
  {
   "cell_type": "markdown",
   "id": "85001a3c-1a85-4f9a-85f6-03ce1102b491",
   "metadata": {},
   "source": [
    "# Table of content"
   ]
  },
  {
   "cell_type": "markdown",
   "id": "0ff43ee5-3bd4-4bfd-8f28-b61cc9dd6e97",
   "metadata": {},
   "source": [
    "# Classification\n",
    "[top](#Table-of-content)"
   ]
  },
  {
   "cell_type": "markdown",
   "id": "b7563aed-9cf1-497a-9275-e20aaf1839ca",
   "metadata": {},
   "source": [
    "## Blobs\n",
    "[top](#Table-of-content)"
   ]
  },
  {
   "cell_type": "code",
   "execution_count": null,
   "id": "f278051d-2818-4033-8d82-aa30e9e15603",
   "metadata": {},
   "outputs": [],
   "source": [
    "generator = example.BlobsClassificationExampleGenerator.create_uniform_centers(num_clusters=3, feature_size=2)\n",
    "print(generator)\n",
    "batch = generator.generate(batch_size=2000, rng=get_torch_generator(random_seed))\n",
    "\n",
    "fig, ax = plt.subplots(figsize=(8, 8))\n",
    "features = batch['feature'].data.numpy()\n",
    "_ = ax.scatter(features[:, 0], features[:, 1], c=batch['target'].data.numpy(), alpha=0.5)"
   ]
  },
  {
   "cell_type": "markdown",
   "id": "5222a7de-b25f-4233-bb20-fae740e70b27",
   "metadata": {},
   "source": [
    "## Circles\n",
    "[top](#Table-of-content)"
   ]
  },
  {
   "cell_type": "code",
   "execution_count": null,
   "id": "79714e8a-06a5-4e53-9eb0-5a21e7465f33",
   "metadata": {},
   "outputs": [],
   "source": [
    "generator = example.CirclesClassification(noise_std=0.02)\n",
    "print(generator)\n",
    "batch = generator.generate(batch_size=2000, rng=get_torch_generator(random_seed))\n",
    "\n",
    "\n",
    "fig, ax = plt.subplots(figsize=(8, 8))\n",
    "features = batch['feature'].data.numpy()\n",
    "_ = ax.scatter(features[:, 0], features[:, 1], c=batch['target'].data.numpy(), alpha=0.5)"
   ]
  },
  {
   "cell_type": "markdown",
   "id": "50838335-b19a-4629-b66a-6ed97c19a202",
   "metadata": {},
   "source": [
    "## Hypercube\n",
    "[top](#Table-of-content)"
   ]
  },
  {
   "cell_type": "code",
   "execution_count": null,
   "id": "59c588b4-3bff-40cc-91ee-c6002d057e0e",
   "metadata": {},
   "outputs": [],
   "source": [
    "num_classes = 50\n",
    "generator = example.HypercubeClassification(num_classes=num_classes, feature_size=64)\n",
    "print(generator)\n",
    "batch = generator.generate(batch_size=50000, rng=get_torch_generator(random_seed))\n",
    "\n",
    "fig, ax = plt.subplots()\n",
    "_ = ax.hist(batch['target'].data.numpy(), bins=num_classes)"
   ]
  },
  {
   "cell_type": "code",
   "execution_count": null,
   "id": "c84f8812-f28a-423f-a7da-a69151ec3d8a",
   "metadata": {},
   "outputs": [],
   "source": [
    "fig = hist_feature(batch['feature'].data, ncols=8, bins=100)"
   ]
  },
  {
   "cell_type": "markdown",
   "id": "63c4ef21-77fc-40a3-b070-1fac03e72997",
   "metadata": {},
   "source": [
    "## Moons\n",
    "[top](#Table-of-content)"
   ]
  },
  {
   "cell_type": "code",
   "execution_count": null,
   "id": "755a45ea-e511-4eef-9a30-b0441bc78ac9",
   "metadata": {},
   "outputs": [],
   "source": [
    "generator = example.MoonsClassification(noise_std=0.02)\n",
    "print(generator)\n",
    "batch = generator.generate(batch_size=2000, rng=get_torch_generator(random_seed))\n",
    "\n",
    "\n",
    "fig, ax = plt.subplots(figsize=(9, 6))\n",
    "features = batch['feature'].data.numpy()\n",
    "_ = ax.scatter(features[:, 0], features[:, 1], c=batch['target'].data.numpy(), alpha=0.5)"
   ]
  },
  {
   "cell_type": "markdown",
   "id": "d9aa9866-b8c5-488d-ab25-7860f3b5f926",
   "metadata": {},
   "source": [
    "# Regression\n",
    "[top](#Table-of-content)"
   ]
  },
  {
   "cell_type": "markdown",
   "id": "15113418-8f49-4505-889c-f007f580af36",
   "metadata": {},
   "source": [
    "## Friedman1\n",
    "[top](#Table-of-content)"
   ]
  },
  {
   "cell_type": "code",
   "execution_count": null,
   "id": "9b771868-a2f9-4687-b39a-a705b841172a",
   "metadata": {},
   "outputs": [],
   "source": [
    "generator = example.Friedman1Regression()\n",
    "print(generator)\n",
    "batch = generator.generate(batch_size=50000, rng=get_torch_generator(random_seed))\n",
    "\n",
    "fig, ax = plt.subplots()\n",
    "_ = ax.hist(batch['target'].data.numpy(), bins=100)"
   ]
  },
  {
   "cell_type": "code",
   "execution_count": null,
   "id": "f9225d20-5752-4d17-91b0-cd3172765041",
   "metadata": {},
   "outputs": [],
   "source": [
    "fig = hist_feature(batch['feature'].data, ncols=4, bins=100)"
   ]
  },
  {
   "cell_type": "markdown",
   "id": "143151ec-b8a3-4670-b37a-72ce782e388d",
   "metadata": {},
   "source": [
    "## Friedman2\n",
    "[top](#Table-of-content)"
   ]
  },
  {
   "cell_type": "code",
   "execution_count": null,
   "id": "26792760-ef26-4c03-9ff8-a0c5a037661d",
   "metadata": {},
   "outputs": [],
   "source": [
    "generator = example.Friedman2Regression()\n",
    "print(generator)\n",
    "batch = generator.generate(batch_size=50000, rng=get_torch_generator(random_seed))\n",
    "\n",
    "fig, ax = plt.subplots()\n",
    "_ = ax.hist(batch['target'].data.numpy(), bins=100)"
   ]
  },
  {
   "cell_type": "code",
   "execution_count": null,
   "id": "1c2fd095-9241-4cc6-b088-63afaa143791",
   "metadata": {},
   "outputs": [],
   "source": [
    "fig = hist_feature(batch['feature'].data, ncols=4, bins=100)"
   ]
  },
  {
   "cell_type": "markdown",
   "id": "cd7727c0-7d6e-4473-8f14-5f5fc148d3cb",
   "metadata": {},
   "source": [
    "## Friedman3\n",
    "[top](#Table-of-content)"
   ]
  },
  {
   "cell_type": "code",
   "execution_count": null,
   "id": "87132141-09ce-412e-8ac8-41fd9a8804fb",
   "metadata": {},
   "outputs": [],
   "source": [
    "generator = example.Friedman3Regression()\n",
    "print(generator)\n",
    "batch = generator.generate(batch_size=50000, rng=get_torch_generator(random_seed))\n",
    "\n",
    "fig, ax = plt.subplots()\n",
    "_ = ax.hist(batch['target'].data.numpy(), bins=100)"
   ]
  },
  {
   "cell_type": "code",
   "execution_count": null,
   "id": "7e883cd8-bdb9-493c-ac71-0f139c815feb",
   "metadata": {},
   "outputs": [],
   "source": [
    "fig = hist_feature(batch['feature'].data, ncols=4, bins=100)"
   ]
  },
  {
   "cell_type": "markdown",
   "id": "77395acc-f869-43e9-9d18-ad7342e549c3",
   "metadata": {},
   "source": [
    "## Linear Regression\n",
    "[top](#Table-of-content)"
   ]
  },
  {
   "cell_type": "code",
   "execution_count": null,
   "id": "0aac0803-536d-4500-9396-dec3eefbde72",
   "metadata": {},
   "outputs": [],
   "source": [
    "from startorch.example.regression import get_uniform_weights\n",
    "\n",
    "weights = get_uniform_weights(feature_size=10, informative_feature_size=5)\n",
    "generator = example.LinearRegression(weights=weights)\n",
    "print(generator)\n",
    "batch = generator.generate(batch_size=50000, rng=get_torch_generator(random_seed))\n",
    "\n",
    "fig, ax = plt.subplots()\n",
    "_ = ax.hist(batch['target'].data.numpy(), bins=100)"
   ]
  },
  {
   "cell_type": "code",
   "execution_count": null,
   "id": "13ad8236-7dd8-4d08-8d5b-07cdade2ae3d",
   "metadata": {},
   "outputs": [],
   "source": [
    "fig = hist_feature(batch['feature'].data, ncols=4, bins=100)"
   ]
  },
  {
   "cell_type": "code",
   "execution_count": null,
   "id": "eab69981-f3a1-41c8-aa27-3b7009231bf4",
   "metadata": {},
   "outputs": [],
   "source": [
    "mi = mutual_info_regression(batch['feature'].data.numpy(), batch['target'].data.numpy())\n",
    "\n",
    "fig, axes = plt.subplots(2, 1, figsize=(16, 7))\n",
    "_ = axes[0].bar(list(range(mi.shape[0])), mi)\n",
    "_ = axes[0].set_title('mutual information')\n",
    "_ = axes[1].bar(list(range(mi.shape[0])), weights.flatten().numpy())\n",
    "_ = axes[1].set_title('real weights')"
   ]
  },
  {
   "cell_type": "markdown",
   "id": "fcf69dae-c4e4-47e0-a205-502b301199b2",
   "metadata": {},
   "source": [
    "# Manifold\n",
    "[top](#Table-of-content)"
   ]
  },
  {
   "cell_type": "markdown",
   "id": "ea2d8a5d-e7ab-4176-8f23-c104b626611d",
   "metadata": {},
   "source": [
    "## Swiss Roll\n",
    "[top](#Table-of-content)"
   ]
  },
  {
   "cell_type": "code",
   "execution_count": null,
   "id": "635ada75-cb45-4abf-b285-34b68978c647",
   "metadata": {},
   "outputs": [],
   "source": [
    "from startorch.example import make_swiss_roll\n",
    "\n",
    "def plot_swiss_roll(data) -> None:\n",
    "    fig = plt.figure()\n",
    "    ax = fig.add_subplot(111, projection=\"3d\")\n",
    "    fig.add_axes(ax)\n",
    "    features = data['feature'].data.numpy()\n",
    "    targets = data['target'].data.numpy()\n",
    "    im = ax.scatter(features[:, 0], features[:, 1], features[:, 2], c=targets, s=50, alpha=0.8)\n",
    "    ax.view_init(azim=-66, elev=12)\n",
    "    fig.colorbar(im, orientation='vertical')\n",
    "\n",
    "data = make_swiss_roll(10000, spin=1.5, noise_std=0.1, generator=get_torch_generator(random_seed))\n",
    "\n",
    "plot_swiss_roll(data)"
   ]
  },
  {
   "cell_type": "code",
   "execution_count": null,
   "id": "c998ff11-ec30-4f6e-a5e4-da01d6748a84",
   "metadata": {},
   "outputs": [],
   "source": [
    "data = make_swiss_roll(10000, spin=1.5, noise_std=0.1, hole=True, generator=get_torch_generator(random_seed))\n",
    "\n",
    "plot_swiss_roll(data)"
   ]
  },
  {
   "cell_type": "code",
   "execution_count": null,
   "id": "5ba90330-4f2f-479b-9af3-651f1abf3418",
   "metadata": {},
   "outputs": [],
   "source": []
  },
  {
   "cell_type": "code",
   "execution_count": null,
   "id": "35f99bdd-9a8d-4989-a5ab-957b8d588e94",
   "metadata": {},
   "outputs": [],
   "source": []
  },
  {
   "cell_type": "code",
   "execution_count": null,
   "id": "47e45050-28e1-4a6f-99d0-3876c9971c8e",
   "metadata": {},
   "outputs": [],
   "source": []
  }
 ],
 "metadata": {
  "kernelspec": {
   "display_name": "Python 3 (ipykernel)",
   "language": "python",
   "name": "python3"
  },
  "language_info": {
   "codemirror_mode": {
    "name": "ipython",
    "version": 3
   },
   "file_extension": ".py",
   "mimetype": "text/x-python",
   "name": "python",
   "nbconvert_exporter": "python",
   "pygments_lexer": "ipython3",
   "version": "3.11.7"
  }
 },
 "nbformat": 4,
 "nbformat_minor": 5
}
