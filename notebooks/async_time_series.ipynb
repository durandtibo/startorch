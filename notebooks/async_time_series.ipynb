{
 "cells": [
  {
   "cell_type": "code",
   "execution_count": 1,
   "id": "751cb2fb-d215-44fd-90ae-3807f2f23f58",
   "metadata": {},
   "outputs": [],
   "source": [
    "%matplotlib inline"
   ]
  },
  {
   "cell_type": "code",
   "execution_count": 2,
   "id": "6f43e56d-7bb0-4b92-8192-04c49ddd0bad",
   "metadata": {},
   "outputs": [],
   "source": [
    "import matplotlib.pyplot as plt\n",
    "\n",
    "\n",
    "import torch\n",
    "from startorch import example as ex\n",
    "from startorch import transformer as tr\n",
    "from startorch import timeseries as ts\n",
    "from startorch import sequence as seq\n",
    "from startorch import tensor as te\n",
    "from startorch.utils.seed import get_torch_generator"
   ]
  },
  {
   "cell_type": "code",
   "execution_count": 3,
   "id": "3722bab3-5696-4ff9-95e1-ae8f87e9b5b8",
   "metadata": {},
   "outputs": [],
   "source": [
    "plt.style.use(\"bmh\")\n",
    "plt.rcParams[\"figure.figsize\"] = (16, 5)"
   ]
  },
  {
   "cell_type": "code",
   "execution_count": 4,
   "id": "086b8840-fd9a-4b35-a8d2-50a959aae677",
   "metadata": {},
   "outputs": [],
   "source": [
    "random_seed = 15803713921897248048"
   ]
  },
  {
   "cell_type": "markdown",
   "id": "85001a3c-1a85-4f9a-85f6-03ce1102b491",
   "metadata": {},
   "source": [
    "# Table of content"
   ]
  },
  {
   "cell_type": "markdown",
   "id": "b7563aed-9cf1-497a-9275-e20aaf1839ca",
   "metadata": {},
   "source": [
    "## Markov + Exponential\n",
    "[top](#Table-of-content)"
   ]
  },
  {
   "cell_type": "code",
   "execution_count": 5,
   "id": "f278051d-2818-4033-8d82-aa30e9e15603",
   "metadata": {},
   "outputs": [
    {
     "name": "stdout",
     "output_type": "stream",
     "text": [
      "tensor([[0., 0., 0., 0., 0., 0., 1., 0., 0., 0.],\n",
      "        [0., 0., 0., 1., 0., 0., 0., 0., 0., 0.],\n",
      "        [0., 0., 0., 0., 0., 1., 0., 0., 0., 0.],\n",
      "        [0., 0., 1., 0., 0., 0., 0., 0., 0., 0.],\n",
      "        [1., 0., 0., 0., 0., 0., 0., 0., 0., 0.],\n",
      "        [0., 0., 0., 0., 0., 0., 0., 0., 0., 1.],\n",
      "        [0., 0., 0., 0., 1., 0., 0., 0., 0., 0.],\n",
      "        [0., 1., 0., 0., 0., 0., 0., 0., 0., 0.],\n",
      "        [0., 0., 0., 0., 0., 0., 0., 1., 0., 0.],\n",
      "        [0., 0., 0., 0., 0., 0., 0., 0., 1., 0.]])\n",
      "TransformExampleGenerator(\n",
      "  (generator): TimeSeriesExampleGenerator(\n",
      "      (generators): SequenceTimeSeriesGenerator(\n",
      "          (action): MarkovChainSequenceGenerator(transition=(10, 10), init=None)\n",
      "        )\n",
      "      (seq_len): FullTensorGenerator(value=128, dtype=None)\n",
      "    )\n",
      "  (transformer): SequentialTransformer(\n",
      "      (0): LookupTableTransformer(size=10, index=action, output=rate, exist_ok=False)\n",
      "      (1): ExponentialTransformer(rate=rate, output=time, exist_ok=False)\n",
      "    )\n",
      ")\n"
     ]
    }
   ],
   "source": [
    "rng = get_torch_generator(random_seed)\n",
    "num_classes = 10\n",
    "actions = torch.arange(num_classes)\n",
    "\n",
    "transition = torch.diag(torch.ones(num_classes))\n",
    "transition = transition[torch.randperm(num_classes)]\n",
    "# transition = mask_by_row(torch.rand(num_classes, num_classes), n=num_classes - 4, rng=rng)\n",
    "print(transition)\n",
    "\n",
    "weights = torch.logspace(start=0.1, end=1.0, steps=num_classes)\n",
    "\n",
    "generator = ex.Transform(\n",
    "    generator=ex.TimeSeriesExampleGenerator(\n",
    "        generators=ts.SequenceTimeSeriesGenerator(\n",
    "            # generators={\"action\": seq.RandInt(0, num_classes)},\n",
    "            generators={\"action\": seq.MarkovChain(transition=transition)},\n",
    "        ),\n",
    "        seq_len=te.Full(128),\n",
    "    ),\n",
    "    transformer=tr.Sequential(\n",
    "        [\n",
    "            tr.LookupTable(weights=weights, index=\"action\", output=\"rate\"),\n",
    "            tr.Exponential(rate=\"rate\", output=\"time\")\n",
    "        ]\n",
    "    ),\n",
    ")\n",
    "print(generator)"
   ]
  },
  {
   "cell_type": "code",
   "execution_count": 6,
   "id": "fd4efd8c-1414-4111-b781-b003082ad628",
   "metadata": {},
   "outputs": [
    {
     "name": "stdout",
     "output_type": "stream",
     "text": [
      "action (10000, 128)\n",
      "rate (10000, 128)\n",
      "time (10000, 128)\n"
     ]
    }
   ],
   "source": [
    "batch = generator.generate(batch_size=10000, rng=rng)\n",
    "\n",
    "for key, value in batch.items():\n",
    "    print(key, tuple(value.shape))\n",
    "\n",
    "action = batch[\"action\"].numpy().ravel()\n",
    "time = batch[\"time\"].numpy().ravel()"
   ]
  },
  {
   "cell_type": "code",
   "execution_count": null,
   "id": "610bb09b-37a9-41ad-853d-7746f56241ce",
   "metadata": {},
   "outputs": [],
   "source": [
    "# Analyze the action distribution\n",
    "action_transition = torch.zeros(num_classes, num_classes)\n",
    "for i, j in zip(action[:-1], action[1:], strict=True):\n",
    "    action_transition[i, j] += 1\n",
    "action_transition = action_transition / action_transition.sum()\n",
    "fig, axes = plt.subplots(figsize=(16, 8), ncols=2)\n",
    "_ = axes[0].matshow(transition)\n",
    "_ = axes[1].matshow(action_transition)"
   ]
  },
  {
   "cell_type": "code",
   "execution_count": null,
   "id": "d69b2478-1086-45b4-ab07-4153f9951831",
   "metadata": {},
   "outputs": [],
   "source": [
    "# Analyze the time distribution\n",
    "fig, ax = plt.subplots(figsize=(16, 8))\n",
    "_ = ax.scatter(time, action, alpha=0.1, color=\"tab:cyan\", label=\"sample\")\n",
    "_ = ax.scatter([time[action == i].mean().item() for i in range(num_classes)], actions, color=\"tab:red\", label=\"mean (estimated)\", marker=\"x\")\n",
    "_ = ax.scatter((1 / weights).numpy(), actions.numpy(), color=\"black\", label=\"mean (exact)\", marker=\"x\")\n",
    "_ = ax.legend()"
   ]
  }
 ],
 "metadata": {
  "kernelspec": {
   "display_name": "Python 3 (ipykernel)",
   "language": "python",
   "name": "python3"
  },
  "language_info": {
   "codemirror_mode": {
    "name": "ipython",
    "version": 3
   },
   "file_extension": ".py",
   "mimetype": "text/x-python",
   "name": "python",
   "nbconvert_exporter": "python",
   "pygments_lexer": "ipython3",
   "version": "3.12.3"
  }
 },
 "nbformat": 4,
 "nbformat_minor": 5
}
